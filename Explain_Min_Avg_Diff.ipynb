{
 "cells": [
  {
   "cell_type": "code",
   "execution_count": 1,
   "id": "8ce6b1dc-be57-4247-a04f-3344b4f0ca97",
   "metadata": {},
   "outputs": [],
   "source": [
    "import os, sys\n",
    "import random\n",
    "\n",
    "from pyspark.sql import SparkSession\n",
    "from pyspark import SparkContext, SparkConf\n",
    "\n",
    "os.environ['HADOOP_CONF_DIR'] = '/etc/hadoop/conf'\n",
    "os.environ['YARN_CONF_DIR'] = '/etc/hadoop/conf'\n",
    "os.environ['PYSPARK_PYTHON'] =  'python3.9'\n",
    "os.environ['PYSPARK_DRIVER_PYTHON'] = 'python3.9'\n",
    "os.environ['HADOOP_USER_NAME']='ssenigov'"
   ]
  },
  {
   "cell_type": "code",
   "execution_count": null,
   "id": "db7c2edf-43ce-4a2e-ac39-be7a1964b3e8",
   "metadata": {},
   "outputs": [],
   "source": [
    "conf = SparkConf().setAppName('Explain_Min_Avg_Diff').setMaster('yarn') \n",
    "spark = SparkSession.builder.config(conf=conf).getOrCreate()"
   ]
  },
  {
   "cell_type": "code",
   "execution_count": 10,
   "id": "048a81ce-870f-4850-b1d4-8fa791ebcba4",
   "metadata": {},
   "outputs": [
    {
     "name": "stdout",
     "output_type": "stream",
     "text": [
      "partitions num = 5\n"
     ]
    }
   ],
   "source": [
    "numItems = 100000\n",
    "numParall = 5\n",
    "rnds = [random.randint(0, numItems) for idx in range(numItems) ]\n",
    "dfRnds = spark.sparkContext.parallelize(rnds, numParall).map(lambda x: (x, )).toDF([\"rnd\"])\n",
    "spark.sql(\"drop table if exists tblRdns\")\n",
    "dfRnds.createOrReplaceTempView(\"tblRnds\")\n",
    "print(\"partitions num =\", dfRnds.rdd.getNumPartitions())"
   ]
  },
  {
   "cell_type": "code",
   "execution_count": 11,
   "id": "0b08a15d-a635-48dc-bfd1-e72d15637c02",
   "metadata": {},
   "outputs": [
    {
     "name": "stdout",
     "output_type": "stream",
     "text": [
      "== Parsed Logical Plan ==\n",
      "'Project [unresolvedalias('min('rnd), None)]\n",
      "+- 'UnresolvedRelation [tblRnds], [], false\n",
      "\n",
      "== Analyzed Logical Plan ==\n",
      "min(rnd): bigint\n",
      "Aggregate [min(rnd#39L) AS min(rnd)#42L]\n",
      "+- SubqueryAlias tblrnds\n",
      "   +- View (`tblRnds`, [rnd#39L])\n",
      "      +- LogicalRDD [rnd#39L], false\n",
      "\n",
      "== Optimized Logical Plan ==\n",
      "Aggregate [min(rnd#39L) AS min(rnd)#42L]\n",
      "+- LogicalRDD [rnd#39L], false\n",
      "\n",
      "== Physical Plan ==\n",
      "AdaptiveSparkPlan isFinalPlan=false\n",
      "+- HashAggregate(keys=[], functions=[min(rnd#39L)], output=[min(rnd)#42L])\n",
      "   +- Exchange SinglePartition, ENSURE_REQUIREMENTS, [plan_id=111]\n",
      "      +- HashAggregate(keys=[], functions=[partial_min(rnd#39L)], output=[min#45L])\n",
      "         +- Scan ExistingRDD[rnd#39L]\n",
      "\n",
      "+--------+\n",
      "|min(rnd)|\n",
      "+--------+\n",
      "|       0|\n",
      "+--------+\n",
      "\n"
     ]
    }
   ],
   "source": [
    "spark.sql(\"select min(rnd) from tblRnds\").explain(mode=\"extended\")\n",
    "spark.sql(\"select min(rnd) from tblRnds\").show()"
   ]
  },
  {
   "cell_type": "code",
   "execution_count": 12,
   "id": "b6b31afc-5343-4d83-8d7b-0b2afae9a54b",
   "metadata": {},
   "outputs": [
    {
     "name": "stdout",
     "output_type": "stream",
     "text": [
      "== Parsed Logical Plan ==\n",
      "'Project [unresolvedalias('avg('rnd), None)]\n",
      "+- 'UnresolvedRelation [tblRnds], [], false\n",
      "\n",
      "== Analyzed Logical Plan ==\n",
      "avg(rnd): double\n",
      "Aggregate [avg(rnd#39L) AS avg(rnd)#58]\n",
      "+- SubqueryAlias tblrnds\n",
      "   +- View (`tblRnds`, [rnd#39L])\n",
      "      +- LogicalRDD [rnd#39L], false\n",
      "\n",
      "== Optimized Logical Plan ==\n",
      "Aggregate [avg(rnd#39L) AS avg(rnd)#58]\n",
      "+- LogicalRDD [rnd#39L], false\n",
      "\n",
      "== Physical Plan ==\n",
      "AdaptiveSparkPlan isFinalPlan=false\n",
      "+- HashAggregate(keys=[], functions=[avg(rnd#39L)], output=[avg(rnd)#58])\n",
      "   +- Exchange SinglePartition, ENSURE_REQUIREMENTS, [plan_id=151]\n",
      "      +- HashAggregate(keys=[], functions=[partial_avg(rnd#39L)], output=[sum#62, count#63L])\n",
      "         +- Scan ExistingRDD[rnd#39L]\n",
      "\n",
      "+-----------+\n",
      "|   avg(rnd)|\n",
      "+-----------+\n",
      "|50038.16595|\n",
      "+-----------+\n",
      "\n"
     ]
    }
   ],
   "source": [
    "spark.sql(\"select avg(rnd) from tblRnds\").explain(mode=\"extended\")\n",
    "spark.sql(\"select avg(rnd) from tblRnds\").show()"
   ]
  },
  {
   "cell_type": "code",
   "execution_count": null,
   "id": "4d4bf403-4bf1-496a-a08e-00a61df9c56c",
   "metadata": {},
   "outputs": [],
   "source": [
    "# --"
   ]
  },
  {
   "cell_type": "code",
   "execution_count": null,
   "id": "e036ef10-f135-44f0-a4bf-293a0bc0264a",
   "metadata": {},
   "outputs": [],
   "source": [
    "_ = spark.sql(\"drop table if exists tblRdns\")"
   ]
  },
  {
   "cell_type": "code",
   "execution_count": null,
   "id": "e244ed93-1a7d-452c-b8c2-b255d6656af3",
   "metadata": {},
   "outputs": [],
   "source": [
    "spark.stop()"
   ]
  }
 ],
 "metadata": {
  "kernelspec": {
   "display_name": "Python 3 (ipykernel)",
   "language": "python",
   "name": "python3"
  },
  "language_info": {
   "codemirror_mode": {
    "name": "ipython",
    "version": 3
   },
   "file_extension": ".py",
   "mimetype": "text/x-python",
   "name": "python",
   "nbconvert_exporter": "python",
   "pygments_lexer": "ipython3",
   "version": "3.9.16"
  }
 },
 "nbformat": 4,
 "nbformat_minor": 5
}
